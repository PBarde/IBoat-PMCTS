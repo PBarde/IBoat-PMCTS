{
 "cells": [
  {
   "cell_type": "markdown",
   "metadata": {},
   "source": [
    "# Tutorial Notebook for IBoat - PMCTS"
   ]
  },
  {
   "cell_type": "markdown",
   "metadata": {},
   "source": [
    "<div class=\"alert-danger\">\n",
    "    \n",
    "Please be aware that this tutorial shall not replace the project's thorough documentation that you can find at :\n",
    "https://pbarde.github.io/IBoat-PMCTS/\n",
    "    \n",
    "</div>"
   ]
  },
  {
   "cell_type": "markdown",
   "metadata": {},
   "source": [
    "<div class=\"alert-success\"> **Objectives :** <br/>\n",
    "    \n",
    "<nl>\n",
    "After completing this tutorial you should be able to use all the tools developed during the IBoat - PMCTS projet. Using these tools you can investigate different algorithms' tunings in order to find an optimal strategy and compare it to the isochrones method. <br/>\n",
    "\n",
    "<nl>    \n",
    "** Finally, all the code of this notebook can be found in the following [Tutorial script](Tutorial.py) which will run more smoothly than in this jupyter notebook (mostly because of multiprocesses involved in the interactive plots).**\n",
    "\n",
    "</div>"
   ]
  },
  {
   "cell_type": "markdown",
   "metadata": {},
   "source": [
    "** Table of contents**\n",
    "\n",
    "1. [Before starting](#before)\n",
    "2. [Weather forecasts and Simulators](#weather)\n",
    "    1. [Downloading weather forecasts](#dl)\n",
    "    2. [Loading weather objects](#load)\n",
    "    3. [Creating simulators and displaying wind conditions](#simu)\n",
    "3. [The Parallel Monte-Carlo Tree Search](#PMCTS)\n",
    "  1. [Initializing the search](#init)\n",
    "  2. [Creating a Forest and launching a PMCTS](#forest)\n",
    "  3. [Processing and saving results](#process)\n",
    "4. [Isochrones and Validation](#iso)\n",
    "  1. [A. Setting up the search](#iso_search)\n",
    "  2. [Comparing the results](#iso_comp)"
   ]
  },
  {
   "cell_type": "markdown",
   "metadata": {},
   "source": [
    "## <a id=\"before\"></a>1. Before starting"
   ]
  },
  {
   "cell_type": "markdown",
   "metadata": {},
   "source": [
    "<div class=\"alert-danger\">\n",
    "    Why don't you create a **conda environment** to make sure everything plays smoothly ? <br/>\n",
    "Install Anaconda 3 ([Anaconda Download](https://www.anaconda.com/download/#linux)) if not done already and run the following commands in your terminal (linux of course).\n",
    "</div>\n",
    "```\n",
    "conda create --name mcts\n",
    "source activate mcts\n",
    "conda install pip\n",
    "conda install jupyter\n",
    "conda install basemap\n",
    "conda install netcdf4\n",
    "conda install scipy\n",
    "```\n",
    "*If you don't have TkAgg and Qt5Agg you'll need to install them with:*\n",
    "```\n",
    "sudo apt-get install python3-tk\n",
    "sudo apt-get install python3-qt\n",
    "```\n",
    "\n",
    "*Then, go to the [Tutorial notebook](Tutorial.ipynb)'s directory and run:*\n",
    "```\n",
    "jupyter notebook \"Tutorial.ipynb\"\n",
    "```\n",
    "\n",
    "*Finally, when you are finished playing you can just remove the conda environment with the lines:*\n",
    "```\n",
    "source deactivate\n",
    "conda remove --name mcts --all\n",
    "```"
   ]
  },
  {
   "cell_type": "markdown",
   "metadata": {},
   "source": [
    "<div class=\"alert-danger\"> \n",
    "    ** /!\\ Please do run the next cell once: ** \n",
    "    <div/>"
   ]
  },
  {
   "cell_type": "code",
   "execution_count": 1,
   "metadata": {},
   "outputs": [],
   "source": [
    "import os\n",
    "os.chdir(os.getcwd() + '/solver/') # just to make sure you're working in the proper directory"
   ]
  },
  {
   "cell_type": "markdown",
   "metadata": {},
   "source": [
    "## <a id=\"weather\"></a> 2. Weather forecasts and Simulators"
   ]
  },
  {
   "cell_type": "markdown",
   "metadata": {},
   "source": [
    "In this section you'll learn how to download, load, process and visualize weather forecasts. You will also create the simulators that are used by the workers in the PMCTS."
   ]
  },
  {
   "cell_type": "markdown",
   "metadata": {},
   "source": [
    "### <a id=\"dl\"></a> A. Downloading weather forecasts"
   ]
  },
  {
   "cell_type": "markdown",
   "metadata": {},
   "source": [
    "Let's start by downloading some forecasts. \n",
    "<div class=\"alert-warning\">\n",
    "*You might want to change the* `mydate` *variable. Note that if it's not working you might have chosen a date whose weather forecasts are not available anymore on the server or your proxy doesn't allow you to download with the* `netcdf4` *package. Or, you just got the date format wrong.* </div>"
   ]
  },
  {
   "cell_type": "code",
   "execution_count": 2,
   "metadata": {},
   "outputs": [
    {
     "name": "stdout",
     "output_type": "stream",
     "text": [
      "Downloading from : http://nomads.ncep.noaa.gov:9090/dods/gens/gens20180302/gec00_00z\n",
      "Saved into : ../data/20180302_0000z.obj\n",
      "Downloading from : http://nomads.ncep.noaa.gov:9090/dods/gens/gens20180302/gep01_00z\n",
      "Saved into : ../data/20180302_0100z.obj\n",
      "Downloading from : http://nomads.ncep.noaa.gov:9090/dods/gens/gens20180302/gep02_00z\n",
      "Saved into : ../data/20180302_0200z.obj\n"
     ]
    }
   ],
   "source": [
    "import forest as ft\n",
    "import time\n",
    "\n",
    "# The starting day of the forecast. If it's too ancient, the forecast might not be available anymore\n",
    "mydate = time.strftime(\"%Y%m%d\")  # mydate = '20180228' # for February 2, 2018\n",
    "\n",
    "# We will download the mean scenario (id=0) and the first 2 perturbed scenarios\n",
    "scenario_ids = range(3)\n",
    "ft.download_scenarios(mydate, latBound=[40, 50], lonBound=[-15 + 360, 360], scenario_ids=scenario_ids)"
   ]
  },
  {
   "cell_type": "markdown",
   "metadata": {},
   "source": [
    "### <a id=\"load\"></a>B. Loading weather objects\n"
   ]
  },
  {
   "cell_type": "markdown",
   "metadata": {},
   "source": [
    "Now that we have downloaded some forecasts, let's load them in order to create simulators with them.  "
   ]
  },
  {
   "cell_type": "code",
   "execution_count": 2,
   "metadata": {},
   "outputs": [
    {
     "name": "stdout",
     "output_type": "stream",
     "text": [
      "Loaded : ../data/20180302_0000z.obj\n",
      "Loaded : ../data/20180302_0100z.obj\n",
      "Loaded : ../data/20180302_0200z.obj\n"
     ]
    }
   ],
   "source": [
    "Weathers = ft.load_scenarios(mydate, latBound=[40, 50], lonBound=[-15 + 360, 360], scenario_ids=scenario_ids)"
   ]
  },
  {
   "cell_type": "markdown",
   "metadata": {},
   "source": [
    "### <a id=\"simu\"></a> C. Creating simulators and displaying wind conditions"
   ]
  },
  {
   "cell_type": "markdown",
   "metadata": {},
   "source": [
    "We define the main parameters of our simulators, we create the simulators and we visualize their wind conditions. The plots are interactives (use the upper-left icons to navigate through the weather forecast).\n",
    "<div class=\"alert-warning\">\n",
    "*Our code is not supposed to be executed in a jupyter notebook which is a bit capricious and does not handle mutli-processing for animations properly. So you can only animate one scenario at a time. To visualize multiple scenarios simulataneously from you should use* `ft.play_multiple_scenarios(Sims)` *in a script.*\n",
    "</div>"
   ]
  },
  {
   "cell_type": "code",
   "execution_count": 3,
   "metadata": {
    "hide_output": true
   },
   "outputs": [
    {
     "name": "stderr",
     "output_type": "stream",
     "text": [
      "/home/paul/anaconda3/envs/mcts/lib/python3.5/site-packages/matplotlib/font_manager.py:1320: UserWarning: findfont: Font family ['normal'] not found. Falling back to DejaVu Sans\n",
      "  (prop.get_family(), self.defaultFamily[fontext]))\n"
     ]
    }
   ],
   "source": [
    "%%capture\n",
    "% matplotlib qt\n",
    "import matplotlib.pyplot as plt\n",
    "from simulatorTLKT import Boat\n",
    "\n",
    "Boat.UNCERTAINTY_COEFF = 0.2 # Characterizes the uncertainty on the boat's dynamics\n",
    "NUMBER_OF_SIM = 3  # <=20 \n",
    "SIM_TIME_STEP = 6  # in hours\n",
    "STATE_INIT = [0, 44, 355]\n",
    "N_DAYS_SIM = 3  # time horizon in days\n",
    "\n",
    "Sims = ft.create_simulators(Weathers, numberofsim=NUMBER_OF_SIM, simtimestep=SIM_TIME_STEP,\n",
    "                            stateinit=STATE_INIT, ndaysim=N_DAYS_SIM)        \n",
    "\n",
    "# in the notebook we can visualize scenarios only one by one. \n",
    "Sims[0].play_scenario()\n",
    "\n",
    "## /!\\ if executing from a .py script, you better use this to have multiple interactive plots: \n",
    "#ft.play_multiple_scenarios(Sims)"
   ]
  },
  {
   "cell_type": "markdown",
   "metadata": {},
   "source": [
    "\n",
    "*If you feel frustrated by the interactive plot you are invited to copy paste the code below in a .py file and replace* \n",
    "```python\n",
    "for ii, sim in enumerate(Sims) : \n",
    "    sim.play_scenario(ii)\n",
    "```\n",
    "*by*\n",
    "```python\n",
    "ft.play_multiple_scenarios(Sims)\n",
    "```\n",
    "*execute your new .py file and enjoy.<br/>\n",
    "(by the way, if you are lazy, you can also give the [Tutorial script](Tutorial.py) a run)*\n"
   ]
  },
  {
   "cell_type": "markdown",
   "metadata": {},
   "source": [
    "## <a id=\"PMCTS\"></a> 3. The Parallel Monte-Carlo Tree Search"
   ]
  },
  {
   "cell_type": "markdown",
   "metadata": {},
   "source": [
    "In this section we will see how to launch a PMCTS, process and visualize the results."
   ]
  },
  {
   "cell_type": "markdown",
   "metadata": {},
   "source": [
    "### <a id=\"init\"></a> A. Initializing the search"
   ]
  },
  {
   "cell_type": "markdown",
   "metadata": {},
   "source": [
    "First of all we define a departure point, a mission heading and we compute the corresponding destination point and reference travel time. Then, we visualize the mean trajectories per scenario during the two initialization phases. "
   ]
  },
  {
   "cell_type": "code",
   "execution_count": 4,
   "metadata": {
    "hide_output": true,
    "scrolled": true
   },
   "outputs": [
    {
     "name": "stderr",
     "output_type": "stream",
     "text": [
      "/home/paul/anaconda3/envs/mcts/lib/python3.5/site-packages/matplotlib/font_manager.py:1320: UserWarning: findfont: Font family ['normal'] not found. Falling back to DejaVu Sans\n",
      "  (prop.get_family(), self.defaultFamily[fontext]))\n"
     ]
    }
   ],
   "source": [
    "%%capture\n",
    "% matplotlib qt\n",
    "import matplotlib\n",
    "matplotlib.rcParams.update({'font.size': 10})\n",
    "\n",
    "missionheading = 0 # direction wrt. true North we want to go the furthest.\n",
    "ntra = 50 # number of trajectories used during the initialization\n",
    "destination, timemin = ft.initialize_simulators(Sims, ntra, STATE_INIT, missionheading, plot=True)"
   ]
  },
  {
   "cell_type": "code",
   "execution_count": 5,
   "metadata": {},
   "outputs": [
    {
     "name": "stdout",
     "output_type": "stream",
     "text": [
      "destination : [47.46311959076624, 355.0] & timemin : 2.2238230970260107\n"
     ]
    }
   ],
   "source": [
    "print(\"destination : {} & timemin : {}\".format(destination, timemin))"
   ]
  },
  {
   "cell_type": "markdown",
   "metadata": {},
   "source": [
    "### <a id=\"forest\"></a> B. Creating a Forest and launching a PMCTS"
   ]
  },
  {
   "cell_type": "markdown",
   "metadata": {},
   "source": [
    "Now we create a Forest (the object managing the worker trees and the master tree) and we launch a search. To do this we must define the exploration parameters of the search."
   ]
  },
  {
   "cell_type": "code",
   "execution_count": 6,
   "metadata": {},
   "outputs": [
    {
     "name": "stdout",
     "output_type": "stream",
     "text": [
      "Iteration 50 on 100 for workers 0\n",
      "\n",
      "Iteration 50 on 100 for workers 1\n",
      "\n",
      "Iteration 50 on 100 for workers 2\n",
      "\n",
      "Iteration 100 on 100 for workers 0\n",
      "\n",
      "Iteration 100 on 100 for workers 1\n",
      "\n",
      "Iteration 100 on 100 for workers 2\n",
      "\n"
     ]
    }
   ],
   "source": [
    "import worker\n",
    "\n",
    "##Exploration Parameters##\n",
    "worker.RHO = 0.5 #Exploration coefficient in the UCT formula.\n",
    "worker.UCT_COEFF = 1 / 2 ** 0.5 #Proportion between master utility and worker utility of node utility.\n",
    "\n",
    "budget = 100 # number of nodes we want to expand in each worker\n",
    "frequency = 10 # number of steps performed by a worker before writing the results into the master\n",
    "forest = ft.Forest(listsimulators=Sims, destination=destination, timemin=timemin, budget=budget)\n",
    "\n",
    "if __name__ == '__main__':\n",
    "    master_nodes = forest.launch_search(STATE_INIT, frequency)\n"
   ]
  },
  {
   "cell_type": "markdown",
   "metadata": {},
   "source": [
    "Since the `master_nodes` object was created as a memory shared by multiple processes we need to do a deep copy of it before processing it. "
   ]
  },
  {
   "cell_type": "code",
   "execution_count": 7,
   "metadata": {},
   "outputs": [],
   "source": [
    "from master_node import deepcopy_dict\n",
    "new_dict = deepcopy_dict(master_nodes)"
   ]
  },
  {
   "cell_type": "markdown",
   "metadata": {},
   "source": [
    "### <a id=\"save\"></a> C. Processing and saving results"
   ]
  },
  {
   "cell_type": "markdown",
   "metadata": {},
   "source": [
    "At this point we can create a `MasterTree` object to process the results and get the optimal policies. We usually add it to the forest object. "
   ]
  },
  {
   "cell_type": "code",
   "execution_count": 8,
   "metadata": {},
   "outputs": [
    {
     "name": "stdout",
     "output_type": "stream",
     "text": [
      "Global policy\n",
      "Depth 1: best reward = 0.20833333333333334 for action = 0\n",
      "Depth 2: best reward = 0.14583333333333334 for action = 90\n",
      "Depth 3: best reward = 0.35416666666666663 for action = 180\n",
      "Policy for scenario 0\n",
      "Depth 1: best reward = 0.3125 for action = 0\n",
      "Depth 2: best reward = 0.4375 for action = 180\n",
      "Depth 3: best reward = 0.1875 for action = 0\n",
      "Policy for scenario 1\n",
      "Depth 1: best reward = 0.375 for action = 0\n",
      "Depth 2: best reward = 0.375 for action = 90\n",
      "Depth 3: best reward = 0.3125 for action = 180\n",
      "Policy for scenario 2\n",
      "Depth 1: best reward = 0.25 for action = 0\n",
      "Depth 2: best reward = 0.3125 for action = 45\n"
     ]
    }
   ],
   "source": [
    "from master import MasterTree\n",
    "forest.master = MasterTree(Sims, destination, nodes=new_dict)\n",
    "forest.master.get_best_policy()"
   ]
  },
  {
   "cell_type": "markdown",
   "metadata": {},
   "source": [
    "It is also possible to plot the master (or the worker corresponding to scenario 1) tree colored with nodes colored by utility, exploration and exploitation values."
   ]
  },
  {
   "cell_type": "code",
   "execution_count": 9,
   "metadata": {},
   "outputs": [
    {
     "name": "stderr",
     "output_type": "stream",
     "text": [
      "/home/paul/anaconda3/envs/mcts/lib/python3.5/site-packages/matplotlib/font_manager.py:1320: UserWarning: findfont: Font family ['normal'] not found. Falling back to DejaVu Sans\n",
      "  (prop.get_family(), self.defaultFamily[fontext]))\n"
     ]
    }
   ],
   "source": [
    "%%capture\n",
    "% matplotlib qt\n",
    "forest.master.plot_tree_uct();\n",
    "forest.master.plot_tree_uct(1);"
   ]
  },
  {
   "cell_type": "markdown",
   "metadata": {},
   "source": [
    "We can also follow the global best policy and look at the reward distribution along this path."
   ]
  },
  {
   "cell_type": "code",
   "execution_count": 14,
   "metadata": {},
   "outputs": [
    {
     "name": "stderr",
     "output_type": "stream",
     "text": [
      "/home/paul/anaconda3/envs/mcts/lib/python3.5/site-packages/matplotlib/font_manager.py:1320: UserWarning: findfont: Font family ['normal'] not found. Falling back to DejaVu Sans\n",
      "  (prop.get_family(), self.defaultFamily[fontext]))\n"
     ]
    }
   ],
   "source": [
    "%%capture\n",
    "% matplotlib qt\n",
    "forest.master.plot_hist_best_policy(interactive = True)"
   ]
  },
  {
   "cell_type": "markdown",
   "metadata": {},
   "source": [
    "Finally we can save the results. "
   ]
  },
  {
   "cell_type": "code",
   "execution_count": 11,
   "metadata": {},
   "outputs": [],
   "source": [
    "forest.master.save_tree(\"my_tuto_results\")"
   ]
  },
  {
   "cell_type": "markdown",
   "metadata": {},
   "source": [
    "## <a id=\"iso\"></a> 4. Isochrones and Validation"
   ]
  },
  {
   "cell_type": "markdown",
   "metadata": {},
   "source": [
    "In this section we will see how to run a isochrone search and compare its performances."
   ]
  },
  {
   "cell_type": "markdown",
   "metadata": {},
   "source": [
    "### <a id=\"iso_search\"></a> A. Setting up the search"
   ]
  },
  {
   "cell_type": "markdown",
   "metadata": {},
   "source": [
    "To set up a isochrones search we need the mean scenario and a simulator without noise on the boat dynamics."
   ]
  },
  {
   "cell_type": "code",
   "execution_count": 12,
   "metadata": {},
   "outputs": [
    {
     "name": "stderr",
     "output_type": "stream",
     "text": [
      "/home/paul/anaconda3/envs/mcts/lib/python3.5/site-packages/matplotlib/font_manager.py:1320: UserWarning: findfont: Font family ['normal'] not found. Falling back to DejaVu Sans\n",
      "  (prop.get_family(), self.defaultFamily[fontext]))\n"
     ]
    }
   ],
   "source": [
    "%%capture\n",
    "% matplotlib qt\n",
    "import sys\n",
    "sys.path.append('../isochrones/')\n",
    "import isochrones as IC\n",
    "\n",
    "\n",
    "Boat.UNCERTAINTY_COEFF = 0\n",
    "\n",
    "sim = ft.create_simulators(Weathers, numberofsim=NUMBER_OF_SIM, simtimestep=SIM_TIME_STEP,\n",
    "                            stateinit=STATE_INIT, ndaysim=4)[0]\n",
    "\n",
    "solver_iso = IC.Isochrone(sim, STATE_INIT, destination, delta_cap=10, increment_cap=9, nb_secteur=200,\n",
    "                          resolution=300)\n",
    "\n",
    "temps_estime, plan_iso, plan_iso_ligne_droite, trajectoire = solver_iso.isochrone_methode()\n",
    "\n",
    "IC.plot_trajectory(sim, trajectoire, quiv=True)\n"
   ]
  },
  {
   "cell_type": "markdown",
   "metadata": {},
   "source": [
    "### <a id=\"iso_comp\"></a> B. Comparing the results"
   ]
  },
  {
   "cell_type": "markdown",
   "metadata": {},
   "source": [
    "Finally we can compare how the two strategy perform on the different scenarios, on average on the scenarios and with a boat with uncertain dynamics for example."
   ]
  },
  {
   "cell_type": "code",
   "execution_count": 13,
   "metadata": {},
   "outputs": [
    {
     "name": "stderr",
     "output_type": "stream",
     "text": [
      "/home/paul/anaconda3/envs/mcts/lib/python3.5/site-packages/matplotlib/font_manager.py:1320: UserWarning: findfont: Font family ['normal'] not found. Falling back to DejaVu Sans\n",
      "  (prop.get_family(), self.defaultFamily[fontext]))\n"
     ]
    }
   ],
   "source": [
    "%%capture\n",
    "% matplotlib qt\n",
    "\n",
    "plan_PMCTS = forest.master.best_policy[-1]\n",
    "\n",
    "Boat.UNCERTAINTY_COEFF = 0.2\n",
    "\n",
    "mean_PMCTS, var_PMCTS = IC.estimate_perfomance_plan(Sims, ntra, STATE_INIT, destination, plan_PMCTS, plot=True, verbose=False)\n",
    "\n",
    "mean_iso, var_iso = IC.estimate_perfomance_plan(Sims, ntra, STATE_INIT, destination, plan_iso, plot=True, verbose=False)\n",
    "\n",
    "IC.plot_comparision(mean_PMCTS, var_PMCTS, mean_iso, var_iso, [\"PCMTS\", \"Isochrones\"])"
   ]
  },
  {
   "cell_type": "markdown",
   "metadata": {},
   "source": [
    "<div class=\"alert-success\"> **Summary :** <br/>\n",
    "    \n",
    "<nl>\n",
    "\n",
    "So now you should be able to perform investigate the algorithm parameter space to perform searches that are correclty tuned and with high budget in order to increase the PMCTS performances.\n",
    " </div>"
   ]
  }
 ],
 "metadata": {
  "kernelspec": {
   "display_name": "Python 3",
   "language": "python",
   "name": "python3"
  },
  "language_info": {
   "codemirror_mode": {
    "name": "ipython",
    "version": 3
   },
   "file_extension": ".py",
   "mimetype": "text/x-python",
   "name": "python",
   "nbconvert_exporter": "python",
   "pygments_lexer": "ipython3",
   "version": "3.6.2"
  }
 },
 "nbformat": 4,
 "nbformat_minor": 2
}
