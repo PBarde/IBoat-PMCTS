{
 "cells": [
  {
   "cell_type": "markdown",
   "metadata": {},
   "source": [
    "# Tutorial Notebook for IBoat - PMCTS"
   ]
  },
  {
   "cell_type": "markdown",
   "metadata": {},
   "source": [
    "<div class=\"alert-danger\">\n",
    "*Please be aware that this tutorials shall not replace the project thorought documentation that you can find at :\n",
    "https://pbarde.github.io/IBoatPIE/ * \n",
    "</div>"
   ]
  },
  {
   "cell_type": "markdown",
   "metadata": {},
   "source": [
    "<div class=\"alert-success\"> After completing this tutorial you should be able to use all the tools devellopped during the IBoat - PMCTS projet. Using these tools you should investigate different algorithms tunings to find an optimal strategy and compare it to the isochrones method. <br/>\n",
    "    \n",
    "    \n",
    "** Finally, all the code of this notebook can be found in the following [Tutorial script](Tutorial.py) and will run much more smoothly than in this jupyter notebook**\n",
    "</div>"
   ]
  },
  {
   "cell_type": "markdown",
   "metadata": {},
   "source": [
    "<div class=\"alert-danger\">\n",
    "    **Before starting :** why don't you create a conda environment to make sure everything plays smoothly ? <br/>\n",
    "Install Anaconda 3 ([Anaconda Download](https://www.anaconda.com/download/#linux)) if not done already and run the following commands in your terminal (linux of course).\n",
    "</div>\n",
    "```\n",
    "conda create --name mcts\n",
    "source activate mcts\n",
    "conda install pip\n",
    "conda install jupyter\n",
    "conda install basemap\n",
    "conda install netcdf4\n",
    "```\n",
    "\n",
    "*Then, when you are finished playing you can just remove the conda environment with the line :*\n",
    "```\n",
    "source deactivate\n",
    "conda remove --name mcts --all\n",
    "```"
   ]
  },
  {
   "cell_type": "markdown",
   "metadata": {},
   "source": [
    "## Weather forecasts and Simulators"
   ]
  },
  {
   "cell_type": "markdown",
   "metadata": {},
   "source": [
    "In this section you'll learn how to download, load, process and visualize weather forecasts. We will also create the simulators that are used in the PMCTS."
   ]
  },
  {
   "cell_type": "markdown",
   "metadata": {},
   "source": [
    "### Downloading weather forecasts"
   ]
  },
  {
   "cell_type": "markdown",
   "metadata": {},
   "source": [
    "Let's start by downloading some forecasts. \n",
    "<div class=\"alert-warning\">\n",
    "*You'll need to change the* `mydate` *variable* </div>"
   ]
  },
  {
   "cell_type": "code",
   "execution_count": 1,
   "metadata": {},
   "outputs": [
    {
     "name": "stdout",
     "output_type": "stream",
     "text": [
      "Downloading from : http://nomads.ncep.noaa.gov:9090/dods/gens/gens20180228/gec00_00z\n",
      "Saved into : ../data/20180228_0000z.obj\n",
      "Downloading from : http://nomads.ncep.noaa.gov:9090/dods/gens/gens20180228/gep01_00z\n",
      "Saved into : ../data/20180228_0100z.obj\n",
      "Downloading from : http://nomads.ncep.noaa.gov:9090/dods/gens/gens20180228/gep02_00z\n",
      "Saved into : ../data/20180228_0200z.obj\n"
     ]
    }
   ],
   "source": [
    "import forest as ft\n",
    "\n",
    "# The starting day of the forecast. If it's too ancient, the forecast might not be available anymore\n",
    "mydate = '20180228' # for February 2, 2018\n",
    "\n",
    "# We will download the mean scenario (id=0) and the first 2 perturbed scenarios\n",
    "scenario_ids = range(3)\n",
    "ft.download_scenarios(mydate, latBound=[40, 50], lonBound=[-15 + 360, 360], scenario_ids=scenario_ids)"
   ]
  },
  {
   "cell_type": "markdown",
   "metadata": {},
   "source": [
    "### Loading weather objects\n"
   ]
  },
  {
   "cell_type": "markdown",
   "metadata": {},
   "source": [
    "Now that we have downaloaded some forecasts, let's load and create simulators out of them.  "
   ]
  },
  {
   "cell_type": "code",
   "execution_count": 1,
   "metadata": {},
   "outputs": [
    {
     "name": "stdout",
     "output_type": "stream",
     "text": [
      "Loaded : ../data/20180228_0000z.obj\n",
      "Loaded : ../data/20180228_0100z.obj\n",
      "Loaded : ../data/20180228_0200z.obj\n"
     ]
    }
   ],
   "source": [
    "import matplotlib\n",
    "matplotlib.use('qt5Agg')\n",
    "import matplotlib.pyplot as plt\n",
    "import forest as ft\n",
    "# The starting day of the forecast. If it's too ancient, the forecast might not be available anymore\n",
    "mydate = '20180228' # for February 2, 2018\n",
    "\n",
    "# We will download the mean scenario (id=0) and the first 2 perturbed scenarios\n",
    "scenario_ids = range(3)\n",
    "Weathers = ft.load_scenarios(mydate, latBound=[40, 50], lonBound=[-15 + 360, 360], scenario_ids=scenario_ids)"
   ]
  },
  {
   "cell_type": "markdown",
   "metadata": {},
   "source": [
    "### Create simulators and display wind conditions"
   ]
  },
  {
   "cell_type": "markdown",
   "metadata": {},
   "source": [
    "We define the main parameters of our simulators, we create them and we visualize the corresponding wind conditions. The plots are interactives (use the upper-left icons to navigate through the weather forecast).\n",
    "<div class=\"alert-warning\">\n",
    "*Our code is not supposed to be executed in a jupyter notebook which is a bit capricious and does not handle mutli-processing properly and animations. So you have to run multiple cells in order to visualize multiple scenaris. To visualize multiple scenarios simulataneously from you should use in a script* `ft.play_multiple_scenarios(Sims)`\n",
    "</div>"
   ]
  },
  {
   "cell_type": "code",
   "execution_count": 9,
   "metadata": {
    "hide_output": true
   },
   "outputs": [],
   "source": [
    "%%capture\n",
    "from multiprocessing import Process\n",
    "\n",
    "NUMBER_OF_SIM = 3  # <=20 \n",
    "SIM_TIME_STEP = 6  # in hours\n",
    "STATE_INIT = [0, 44, 355]\n",
    "N_DAYS_SIM = 3  # time horizon in days\n",
    "\n",
    "Sims = ft.create_simulators(Weathers, numberofsim=NUMBER_OF_SIM, simtimestep=SIM_TIME_STEP,\n",
    "                            stateinit=STATE_INIT, ndaysim=N_DAYS_SIM)        \n",
    "\n",
    "# in the notebook we can visualize scenarios only one by one. \n",
    "Sims[0].play_scenario()\n",
    "    \n",
    "## /!\\ if executing from a .py script, you better use this to have multiple interactive plots: \n",
    "# ft.play_multiple_scenarios(Sims)"
   ]
  },
  {
   "cell_type": "code",
   "execution_count": 10,
   "metadata": {},
   "outputs": [],
   "source": [
    "%%capture\n",
    "Sims[1].play_scenario(1)"
   ]
  },
  {
   "cell_type": "code",
   "execution_count": 11,
   "metadata": {},
   "outputs": [
    {
     "name": "stderr",
     "output_type": "stream",
     "text": [
      "/home/paul/anaconda3/envs/mcts/lib/python3.5/site-packages/matplotlib/font_manager.py:1320: UserWarning: findfont: Font family ['normal'] not found. Falling back to DejaVu Sans\n",
      "  (prop.get_family(), self.defaultFamily[fontext]))\n"
     ]
    }
   ],
   "source": [
    "%%capture\n",
    "Sims[2].play_scenario(2)"
   ]
  },
  {
   "cell_type": "markdown",
   "metadata": {},
   "source": [
    "\n",
    "*If you are frustrated by the interactive plot you are invited to copy paste the code below in a .py file and replace* \n",
    "```python\n",
    "for ii, sim in enumerate(Sims) : \n",
    "    sim.play_scenario(ii)\n",
    "```\n",
    "*by*\n",
    "```python\n",
    "ft.play_multiple_scenarios(Sims)\n",
    "```\n",
    "*execute your new .py file and enjoy.*\n"
   ]
  },
  {
   "cell_type": "markdown",
   "metadata": {},
   "source": [
    "## The Parallel Monte-Carlo Tree Search"
   ]
  },
  {
   "cell_type": "markdown",
   "metadata": {},
   "source": [
    "In this section we will see how to launch a PMCTS and visualize the results."
   ]
  },
  {
   "cell_type": "markdown",
   "metadata": {},
   "source": [
    "### Initialisation of the search"
   ]
  },
  {
   "cell_type": "markdown",
   "metadata": {},
   "source": [
    "First of all we define a departure point, a mission heading and we compute the corresponding destination point and reference travel time. And we visualize the mean trajectories per scenarios during the two initialization phases. "
   ]
  },
  {
   "cell_type": "code",
   "execution_count": 12,
   "metadata": {
    "hide_output": true,
    "scrolled": true
   },
   "outputs": [
    {
     "name": "stderr",
     "output_type": "stream",
     "text": [
      "/home/paul/anaconda3/envs/mcts/lib/python3.5/site-packages/matplotlib/font_manager.py:1320: UserWarning: findfont: Font family ['normal'] not found. Falling back to DejaVu Sans\n",
      "  (prop.get_family(), self.defaultFamily[fontext]))\n"
     ]
    }
   ],
   "source": [
    "%%capture\n",
    "import matplotlib\n",
    "matplotlib.rcParams.update({'font.size': 10})\n",
    "missionheading = 0 # direction wrt. true North we want to go the furthest.\n",
    "ntra = 50 # number of trajectories used during the initialization\n",
    "destination, timemin = ft.initialize_simulators(Sims, ntra, STATE_INIT, missionheading, plot=True)\n",
    "plt.show()"
   ]
  },
  {
   "cell_type": "code",
   "execution_count": 5,
   "metadata": {},
   "outputs": [
    {
     "name": "stdout",
     "output_type": "stream",
     "text": [
      "destination : [47.12514559106446, 355.0] & timemin : 2.22523753998074\n"
     ]
    }
   ],
   "source": [
    "print(\"destination : {} & timemin : {}\".format(destination, timemin))"
   ]
  },
  {
   "cell_type": "markdown",
   "metadata": {},
   "source": [
    "### Create a Forest and launch a PMCTS"
   ]
  },
  {
   "cell_type": "markdown",
   "metadata": {},
   "source": [
    "Now we create a Forest (the object managing the worker trees and the master tree) and we launch a search."
   ]
  },
  {
   "cell_type": "code",
   "execution_count": 13,
   "metadata": {},
   "outputs": [
    {
     "name": "stdout",
     "output_type": "stream",
     "text": [
      "Iteration 50 on 100 for workers 1\n",
      "\n",
      "Iteration 50 on 100 for workers 2\n",
      "\n",
      "Iteration 50 on 100 for workers 0\n",
      "\n",
      "Iteration 100 on 100 for workers 1\n",
      "\n",
      "Iteration 100 on 100 for workers 2\n",
      "\n",
      "Iteration 100 on 100 for workers 0\n",
      "\n"
     ]
    }
   ],
   "source": [
    "budget = 100 # number of nodes we want to expand in each worker\n",
    "frequency = 10 # number of steps performed by worker before writing the results into the master\n",
    "forest = ft.Forest(listsimulators=Sims, destination=destination, timemin=timemin, budget=budget)\n",
    "\n",
    "if __name__ == '__main__':\n",
    "    master_nodes = forest.launch_search(STATE_INIT, frequency)\n"
   ]
  },
  {
   "cell_type": "markdown",
   "metadata": {},
   "source": [
    "Since the `master_nodes` object was created has a memory shared by multiple processes we need to do a deep copy of it before processing it. "
   ]
  },
  {
   "cell_type": "code",
   "execution_count": 14,
   "metadata": {},
   "outputs": [],
   "source": [
    "from master_node import deepcopy_dict\n",
    "new_dict = deepcopy_dict(master_nodes)"
   ]
  },
  {
   "cell_type": "markdown",
   "metadata": {},
   "source": [
    "At this point we can create a `MasterTree` object to process the results and get the optimal policies. We usually add it to the forest object. "
   ]
  },
  {
   "cell_type": "code",
   "execution_count": 15,
   "metadata": {},
   "outputs": [
    {
     "name": "stdout",
     "output_type": "stream",
     "text": [
      "Global policy\n",
      "Depth 1: best reward = 0.18861289173789172 for action = 0\n",
      "Depth 2: best reward = 0.22916666666666666 for action = 180\n",
      "Depth 3: best reward = 0.2506210205196431 for action = 180\n",
      "Depth 4: best reward = 0.313121020519643 for action = 0\n",
      "Policy for scenario 0\n",
      "Depth 1: best reward = 0.3125 for action = 315\n",
      "Depth 2: best reward = 0.4375 for action = 90\n",
      "Depth 3: best reward = 0.3125 for action = 0\n",
      "Policy for scenario 1\n",
      "Depth 1: best reward = 0.13194444444444445 for action = 0\n",
      "Depth 2: best reward = 0.3125 for action = 180\n",
      "Depth 3: best reward = 0.3125 for action = 0\n",
      "Policy for scenario 2\n",
      "Depth 1: best reward = 0.26358695652173914 for action = 0\n",
      "Depth 2: best reward = 0.3482142857142857 for action = 0\n",
      "Depth 3: best reward = 0.625 for action = 90\n",
      "Depth 4: best reward = 0.3125 for action = 270\n"
     ]
    }
   ],
   "source": [
    "from master import MasterTree\n",
    "forest.master = MasterTree(Sims, destination, nodes=new_dict)\n",
    "forest.master.get_best_policy()"
   ]
  },
  {
   "cell_type": "markdown",
   "metadata": {},
   "source": [
    "It is also possible to plot the global uct tree colored with nodes colored by utility, exploration and exploitation values."
   ]
  },
  {
   "cell_type": "code",
   "execution_count": 16,
   "metadata": {},
   "outputs": [
    {
     "name": "stderr",
     "output_type": "stream",
     "text": [
      "/home/paul/anaconda3/envs/mcts/lib/python3.5/site-packages/matplotlib/font_manager.py:1320: UserWarning: findfont: Font family ['normal'] not found. Falling back to DejaVu Sans\n",
      "  (prop.get_family(), self.defaultFamily[fontext]))\n"
     ]
    }
   ],
   "source": [
    "%%capture\n",
    "forest.master.plot_tree_uct();\n",
    "forest.master.plot_tree_uct(1);"
   ]
  },
  {
   "cell_type": "markdown",
   "metadata": {},
   "source": [
    "We can also follow the global best policy and look at the reward distribution along this path."
   ]
  },
  {
   "cell_type": "code",
   "execution_count": 18,
   "metadata": {},
   "outputs": [
    {
     "name": "stderr",
     "output_type": "stream",
     "text": [
      "/home/paul/anaconda3/envs/mcts/lib/python3.5/site-packages/matplotlib/font_manager.py:1320: UserWarning: findfont: Font family ['normal'] not found. Falling back to DejaVu Sans\n",
      "  (prop.get_family(), self.defaultFamily[fontext]))\n"
     ]
    }
   ],
   "source": [
    "%%capture\n",
    "forest.master.plot_hist_best_policy(interactive = True)"
   ]
  },
  {
   "cell_type": "markdown",
   "metadata": {},
   "source": [
    "Finally we can save the results. "
   ]
  },
  {
   "cell_type": "code",
   "execution_count": 19,
   "metadata": {},
   "outputs": [],
   "source": [
    "forest.master.save_tree(\"my_tuto_results\")"
   ]
  },
  {
   "cell_type": "markdown",
   "metadata": {},
   "source": [
    "## Isochrones and Validation"
   ]
  }
 ],
 "metadata": {
  "kernelspec": {
   "display_name": "Python 3",
   "language": "python",
   "name": "python3"
  },
  "language_info": {
   "codemirror_mode": {
    "name": "ipython",
    "version": 3
   },
   "file_extension": ".py",
   "mimetype": "text/x-python",
   "name": "python",
   "nbconvert_exporter": "python",
   "pygments_lexer": "ipython3",
   "version": "3.5.4"
  }
 },
 "nbformat": 4,
 "nbformat_minor": 2
}
