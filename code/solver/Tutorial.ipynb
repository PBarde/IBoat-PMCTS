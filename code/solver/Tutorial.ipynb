{
 "cells": [
  {
   "cell_type": "markdown",
   "metadata": {},
   "source": [
    "<div class=\"alert-danger\">\n",
    "    Faire une liste des installs a faire from scratch pour runner le notebook avec jupyter\n",
    "    \n",
    "</div>"
   ]
  },
  {
   "cell_type": "markdown",
   "metadata": {},
   "source": [
    "# Tutorial Notebook for IBoat - PMCTS"
   ]
  },
  {
   "cell_type": "markdown",
   "metadata": {},
   "source": [
    "<div class=\"alert-danger\">\n",
    "*Please be aware that this tutorials shall not replace the project thorought documentation that you can find at :\n",
    "https://pbarde.github.io/IBoatPIE/ * \n",
    "</div>"
   ]
  },
  {
   "cell_type": "markdown",
   "metadata": {},
   "source": [
    "<div class=\"alert-success\"> After completing this tutorial you should be able to use all the tools devellopped during the IBoat - PMCTS projet. Using these tools you should investigate different algorithms tunings to find an optimal strategy and compare it to the isochrones method.\n",
    "</div>"
   ]
  },
  {
   "cell_type": "markdown",
   "metadata": {},
   "source": [
    "## Weather forecasts and Simulators"
   ]
  },
  {
   "cell_type": "markdown",
   "metadata": {},
   "source": [
    "In this section you'll learn how to download, load, process and visualize weather forecasts. We will also create the simulators that are used in the PMCTS."
   ]
  },
  {
   "cell_type": "markdown",
   "metadata": {},
   "source": [
    "### Downloading weather forecasts"
   ]
  },
  {
   "cell_type": "markdown",
   "metadata": {},
   "source": [
    "Let's start by downloading some forecasts. \n",
    "<div class=\"alert-warning\">\n",
    "*You'll need to change the* `mydate` *variable* </div>"
   ]
  },
  {
   "cell_type": "code",
   "execution_count": 1,
   "metadata": {},
   "outputs": [
    {
     "name": "stdout",
     "output_type": "stream",
     "text": [
      "Downloading from : http://nomads.ncep.noaa.gov:9090/dods/gens/gens20180228/gec00_00z\n",
      "Saved into : ../data/20180228_0000z.obj\n",
      "Downloading from : http://nomads.ncep.noaa.gov:9090/dods/gens/gens20180228/gep01_00z\n",
      "Saved into : ../data/20180228_0100z.obj\n",
      "Downloading from : http://nomads.ncep.noaa.gov:9090/dods/gens/gens20180228/gep02_00z\n",
      "Saved into : ../data/20180228_0200z.obj\n"
     ]
    }
   ],
   "source": [
    "import forest as ft\n",
    "\n",
    "# The starting day of the forecast. If it's too ancient, the forecast might not be available anymore\n",
    "mydate = '20180228' # for February 2, 2018\n",
    "\n",
    "# We will download the mean scenario (id=0) and the first 2 perturbed scenarios\n",
    "scenario_ids = range(3)\n",
    "ft.download_scenarios(mydate, latBound=[40, 50], lonBound=[-15 + 360, 360], scenario_ids=scenario_ids)"
   ]
  },
  {
   "cell_type": "markdown",
   "metadata": {},
   "source": [
    "### Loading weather objects\n"
   ]
  },
  {
   "cell_type": "markdown",
   "metadata": {},
   "source": [
    "Now that we have downaloaded some forecasts, let's load and create simulators out of them.  "
   ]
  },
  {
   "cell_type": "code",
   "execution_count": 1,
   "metadata": {},
   "outputs": [
    {
     "name": "stdout",
     "output_type": "stream",
     "text": [
      "Loaded : ../data/20180228_0000z.obj\n",
      "Loaded : ../data/20180228_0100z.obj\n",
      "Loaded : ../data/20180228_0200z.obj\n"
     ]
    }
   ],
   "source": [
    "import forest as ft\n",
    "\n",
    "# The starting day of the forecast. If it's too ancient, the forecast might not be available anymore\n",
    "mydate = '20180228' # for February 2, 2018\n",
    "\n",
    "# We will download the mean scenario (id=0) and the first 2 perturbed scenarios\n",
    "scenario_ids = range(3)\n",
    "Weathers = ft.load_scenarios(mydate, latBound=[40, 50], lonBound=[-15 + 360, 360], scenario_ids=scenario_ids)"
   ]
  },
  {
   "cell_type": "markdown",
   "metadata": {},
   "source": [
    "### Create simulators and displaying wind conditions"
   ]
  },
  {
   "cell_type": "markdown",
   "metadata": {},
   "source": [
    "We define the main parameters of our simulators, we create them and we visualize the corresponding wind conditions. The plots are interactives (use the upper-left icons to navigate through the weather forecast).\n",
    "<div class=\"alert-warning\">\n",
    "*Please don't mind the long output as it is a side effect of the basemap library we are using (double click on the left side of it to hide it).*<br />\n",
    "*Moreover, our code is not supposed to be executed in a jupyter notebook which is a bit capricious and does not handle mutli-processing properly. To visualize multiple scenarios interactively from a script you should use* `ft.play_multiple_scenarios(Sims)`\n",
    "</div>"
   ]
  },
  {
   "cell_type": "code",
   "execution_count": 2,
   "metadata": {
    "hide_output": true
   },
   "outputs": [],
   "source": [
    "%%capture  \n",
    "% matplotlib tk\n",
    "from time import sleep\n",
    "NUMBER_OF_SIM = 3  # <=20 \n",
    "SIM_TIME_STEP = 6  # in hours\n",
    "STATE_INIT = [0, 44, 355]\n",
    "N_DAYS_SIM = 3  # time horizon in days\n",
    "\n",
    "Sims = ft.create_simulators(Weathers, numberofsim=NUMBER_OF_SIM, simtimestep=SIM_TIME_STEP,\n",
    "                            stateinit=STATE_INIT, ndaysim=N_DAYS_SIM)\n",
    "\n",
    "## for interactive display of scenarios inside a notebook\n",
    "#for ii, sim in enumerate(Sims) : \n",
    "#    sim.play_scenario(ii)\n",
    "#    sleep(1)\n",
    "    \n",
    "## /!\\ if executing from a .py script, you better use as it uses multiprocessing: \n",
    "# ft.play_multiple_scenarios(Sims)"
   ]
  },
  {
   "cell_type": "markdown",
   "metadata": {},
   "source": [
    "## The Parallel Monte-Carlo Tree Search"
   ]
  },
  {
   "cell_type": "markdown",
   "metadata": {},
   "source": [
    "In this section we will see how to launch a PMCTS and visualize the results."
   ]
  },
  {
   "cell_type": "markdown",
   "metadata": {},
   "source": [
    "### Initialisation of the search"
   ]
  },
  {
   "cell_type": "markdown",
   "metadata": {},
   "source": [
    "First of all we define a departure point, a mission heading and we compute the corresponding destination point and reference travel time. And we visualize the mean trajectories per scenarios during the two initialization phases. "
   ]
  },
  {
   "cell_type": "code",
   "execution_count": 4,
   "metadata": {
    "hide_output": true
   },
   "outputs": [],
   "source": [
    "%%capture\n",
    "import matplotlib\n",
    "matplotlib.rcParams.update({'font.size': 10})\n",
    "missionheading = 0 # direction wrt. true North we want to go the furthest.\n",
    "ntra = 50 # number of trajectories used during the initialization\n",
    "destination, timemin = ft.initialize_simulators(Sims, ntra, STATE_INIT, missionheading, plot=True)"
   ]
  },
  {
   "cell_type": "code",
   "execution_count": 41,
   "metadata": {},
   "outputs": [
    {
     "name": "stdout",
     "output_type": "stream",
     "text": [
      "destination : [48.60778768092585, 355.0]  &  timemin : 3.13841137437\n",
      "\n"
     ]
    }
   ],
   "source": [
    "print(\"destination : \" + str(destination) + \"  &  timemin : \" + str(timemin) + \"\\n\")"
   ]
  }
 ],
 "metadata": {
  "kernelspec": {
   "display_name": "Python 3",
   "language": "python",
   "name": "python3"
  },
  "language_info": {
   "codemirror_mode": {
    "name": "ipython",
    "version": 3
   },
   "file_extension": ".py",
   "mimetype": "text/x-python",
   "name": "python",
   "nbconvert_exporter": "python",
   "pygments_lexer": "ipython3",
   "version": "3.6.2"
  }
 },
 "nbformat": 4,
 "nbformat_minor": 2
}
